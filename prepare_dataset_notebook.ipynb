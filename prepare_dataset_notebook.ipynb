{
 "cells": [
  {
   "cell_type": "code",
   "execution_count": 1,
   "id": "a59da043-290e-4e95-aa41-de6e72b94687",
   "metadata": {},
   "outputs": [],
   "source": [
    "import librosa\n",
    "import os\n",
    "import json"
   ]
  },
  {
   "cell_type": "code",
   "execution_count": null,
   "id": "094c8c42-eeb7-4e9c-bbd3-932e5fe3e6cb",
   "metadata": {},
   "outputs": [],
   "source": [
    "DATASET_PATH = \"dataset\"\n",
    "JSON_PATH = \"data.json\"\n",
    "SAMPLES_TO_CONSIDER = 22050 # 1 second worth of loading sound with librosa"
   ]
  },
  {
   "cell_type": "code",
   "execution_count": null,
   "id": "9fb24c50-abd6-4742-b20f-00e4419a6bf0",
   "metadata": {},
   "outputs": [],
   "source": []
  },
  {
   "cell_type": "code",
   "execution_count": null,
   "id": "01e43b76-06b2-41ff-8398-6779bb91006a",
   "metadata": {},
   "outputs": [],
   "source": []
  },
  {
   "cell_type": "code",
   "execution_count": null,
   "id": "c27713ac-05a9-4bd8-8e11-74765f8a3771",
   "metadata": {},
   "outputs": [],
   "source": []
  },
  {
   "cell_type": "code",
   "execution_count": null,
   "id": "a062bd56-a2fe-46ca-a6fe-c6825fdb0a6b",
   "metadata": {},
   "outputs": [],
   "source": []
  },
  {
   "cell_type": "code",
   "execution_count": null,
   "id": "411a90e7-f799-4d9e-bcee-6b9eb30ab9ea",
   "metadata": {},
   "outputs": [],
   "source": []
  },
  {
   "cell_type": "code",
   "execution_count": null,
   "id": "98021385-c11f-44f1-bff9-c6b56b47ecea",
   "metadata": {},
   "outputs": [],
   "source": []
  }
 ],
 "metadata": {
  "kernelspec": {
   "display_name": "Python [conda env:audio]",
   "language": "python",
   "name": "conda-env-audio-py"
  },
  "language_info": {
   "codemirror_mode": {
    "name": "ipython",
    "version": 3
   },
   "file_extension": ".py",
   "mimetype": "text/x-python",
   "name": "python",
   "nbconvert_exporter": "python",
   "pygments_lexer": "ipython3",
   "version": "3.10.0"
  }
 },
 "nbformat": 4,
 "nbformat_minor": 5
}
